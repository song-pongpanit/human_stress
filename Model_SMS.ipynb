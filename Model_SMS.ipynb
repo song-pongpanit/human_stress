{
  "cells": [
    {
      "cell_type": "markdown",
      "metadata": {
        "id": "view-in-github",
        "colab_type": "text"
      },
      "source": [
        "<a href=\"https://colab.research.google.com/github/song-pongpanit/human_stress/blob/main/Model_SMS.ipynb\" target=\"_parent\"><img src=\"https://colab.research.google.com/assets/colab-badge.svg\" alt=\"Open In Colab\"/></a>"
      ]
    },
    {
      "cell_type": "code",
      "execution_count": null,
      "metadata": {
        "colab": {
          "base_uri": "https://localhost:8080/"
        },
        "id": "nGgwOX-am0-n",
        "outputId": "de60537c-747d-4d63-b078-29167d8261ae"
      },
      "outputs": [
        {
          "name": "stderr",
          "output_type": "stream",
          "text": [
            "C:\\Users\\song-\\AppData\\Local\\Temp\\ipykernel_5824\\2283927695.py:2: DeprecationWarning: \n",
            "Pyarrow will become a required dependency of pandas in the next major release of pandas (pandas 3.0),\n",
            "(to allow more performant data types, such as the Arrow string type, and better interoperability with other libraries)\n",
            "but was not found to be installed on your system.\n",
            "If this would cause problems for you,\n",
            "please provide us feedback at https://github.com/pandas-dev/pandas/issues/54466\n",
            "        \n",
            "  import pandas as pd\n"
          ]
        },
        {
          "name": "stdout",
          "output_type": "stream",
          "text": [
            "WARNING:tensorflow:From C:\\Users\\song-\\AppData\\Roaming\\Python\\Python311\\site-packages\\keras\\src\\losses.py:2976: The name tf.losses.sparse_softmax_cross_entropy is deprecated. Please use tf.compat.v1.losses.sparse_softmax_cross_entropy instead.\n",
            "\n"
          ]
        },
        {
          "name": "stderr",
          "output_type": "stream",
          "text": [
            "C:\\Users\\song-\\AppData\\Roaming\\Python\\Python311\\site-packages\\tqdm\\auto.py:21: TqdmWarning: IProgress not found. Please update jupyter and ipywidgets. See https://ipywidgets.readthedocs.io/en/stable/user_install.html\n",
            "  from .autonotebook import tqdm as notebook_tqdm\n",
            "C:\\Users\\song-\\AppData\\Local\\Temp\\ipykernel_5824\\2283927695.py:24: DeprecationWarning: `import kerastuner` is deprecated, please use `import keras_tuner`.\n",
            "  import kerastuner as kt\n"
          ]
        }
      ],
      "source": [
        "import numpy as np\n",
        "import pandas as pd\n",
        "import matplotlib.pyplot as plt\n",
        "import seaborn as sns\n",
        "import re\n",
        "\n",
        "from sklearn.model_selection import train_test_split\n",
        "from sklearn.metrics import accuracy_score, recall_score, precision_score, f1_score, classification_report, roc_curve, roc_auc_score\n",
        "from sklearn.naive_bayes import BernoulliNB\n",
        "\n",
        "import tensorflow as tf\n",
        "from tensorflow.keras.models import Sequential, Model\n",
        "from tensorflow.keras.layers import Dense, Input, Dropout, BatchNormalization, Activation,  LayerNormalization, LSTM, MaxPooling1D, Conv1D, Flatten, GlobalMaxPooling1D\n",
        "from tensorflow.keras.callbacks import ModelCheckpoint, EarlyStopping\n",
        "from tensorflow.keras.optimizers import Adam\n",
        "from keras.regularizers import l2\n",
        "\n",
        "import transformers\n",
        "from transformers import BertTokenizer\n",
        "from transformers import TFBertModel\n",
        "from transformers import logging\n",
        "logging.set_verbosity_warning()\n",
        "\n",
        "import kerastuner as kt\n",
        "\n",
        "import warnings\n",
        "warnings.filterwarnings(\"ignore\")"
      ]
    },
    {
      "cell_type": "code",
      "execution_count": null,
      "metadata": {
        "id": "3IshTnd6E9Nd"
      },
      "outputs": [],
      "source": [
        "train = pd.read_csv('train_aug4.csv', encoding='latin-1')\n",
        "test = pd.read_csv('test_aug.csv', encoding='latin-1')\n",
        "val = pd.read_csv('val_aug.csv', encoding='latin-1')"
      ]
    },
    {
      "cell_type": "code",
      "execution_count": null,
      "metadata": {
        "id": "a0n4l0SpRX6Z",
        "outputId": "0cb6c89a-6cf9-4b4d-eba8-e3e5618aa475"
      },
      "outputs": [
        {
          "data": {
            "text/html": [
              "<div>\n",
              "<style scoped>\n",
              "    .dataframe tbody tr th:only-of-type {\n",
              "        vertical-align: middle;\n",
              "    }\n",
              "\n",
              "    .dataframe tbody tr th {\n",
              "        vertical-align: top;\n",
              "    }\n",
              "\n",
              "    .dataframe thead th {\n",
              "        text-align: right;\n",
              "    }\n",
              "</style>\n",
              "<table border=\"1\" class=\"dataframe\">\n",
              "  <thead>\n",
              "    <tr style=\"text-align: right;\">\n",
              "      <th></th>\n",
              "      <th>Unnamed: 0</th>\n",
              "      <th>text</th>\n",
              "      <th>encoded</th>\n",
              "    </tr>\n",
              "  </thead>\n",
              "  <tbody>\n",
              "    <tr>\n",
              "      <th>0</th>\n",
              "      <td>0</td>\n",
              "      <td>Can you tell Shola to please go to college of ...</td>\n",
              "      <td>0</td>\n",
              "    </tr>\n",
              "    <tr>\n",
              "      <th>1</th>\n",
              "      <td>1</td>\n",
              "      <td>Dude im no longer a pisces. Im an aquarius now.</td>\n",
              "      <td>0</td>\n",
              "    </tr>\n",
              "    <tr>\n",
              "      <th>2</th>\n",
              "      <td>2</td>\n",
              "      <td>Oh yeah I forgot. U can only take 2 out shoppi...</td>\n",
              "      <td>0</td>\n",
              "    </tr>\n",
              "    <tr>\n",
              "      <th>3</th>\n",
              "      <td>3</td>\n",
              "      <td>I hate when she does this. She turns what shou...</td>\n",
              "      <td>0</td>\n",
              "    </tr>\n",
              "    <tr>\n",
              "      <th>4</th>\n",
              "      <td>4</td>\n",
              "      <td>, ,  and  picking them up from various points ...</td>\n",
              "      <td>0</td>\n",
              "    </tr>\n",
              "  </tbody>\n",
              "</table>\n",
              "</div>"
            ],
            "text/plain": [
              "   Unnamed: 0                                               text  encoded\n",
              "0           0  Can you tell Shola to please go to college of ...        0\n",
              "1           1    Dude im no longer a pisces. Im an aquarius now.        0\n",
              "2           2  Oh yeah I forgot. U can only take 2 out shoppi...        0\n",
              "3           3  I hate when she does this. She turns what shou...        0\n",
              "4           4  , ,  and  picking them up from various points ...        0"
            ]
          },
          "execution_count": 3,
          "metadata": {},
          "output_type": "execute_result"
        }
      ],
      "source": [
        "train.head()"
      ]
    },
    {
      "cell_type": "markdown",
      "metadata": {
        "id": "o9mDDhmv3PKl"
      },
      "source": [
        "# BERT"
      ]
    },
    {
      "cell_type": "code",
      "execution_count": null,
      "metadata": {
        "id": "JyL8V8UdRX6a",
        "outputId": "2df2b378-a350-4f24-c9e3-cd0caf957c90"
      },
      "outputs": [
        {
          "data": {
            "text/plain": [
              "(5440, 3)"
            ]
          },
          "execution_count": 4,
          "metadata": {},
          "output_type": "execute_result"
        }
      ],
      "source": [
        "train.shape"
      ]
    },
    {
      "cell_type": "code",
      "execution_count": null,
      "metadata": {
        "id": "1xvbeRMPRX6b"
      },
      "outputs": [],
      "source": [
        "x_train = train['text']\n",
        "y_train = train['encoded']\n",
        "x_val = val['text']\n",
        "y_val = val['encoded']\n",
        "x_test = test['text']\n",
        "y_test = test['encoded']"
      ]
    },
    {
      "cell_type": "code",
      "execution_count": null,
      "metadata": {
        "id": "Elmr4JtpRX6b",
        "outputId": "24d3ef17-a707-489a-ad4f-ac7572a324c7"
      },
      "outputs": [
        {
          "data": {
            "text/plain": [
              "162"
            ]
          },
          "execution_count": 6,
          "metadata": {},
          "output_type": "execute_result"
        }
      ],
      "source": [
        "max(x_train.apply(lambda x : len(x.split())))"
      ]
    },
    {
      "cell_type": "code",
      "execution_count": null,
      "metadata": {
        "id": "XlxX66jMRX6b",
        "outputId": "b2ddf2d0-57c9-4f68-ebb0-d18c3e69a152"
      },
      "outputs": [
        {
          "name": "stdout",
          "output_type": "stream",
          "text": [
            "WARNING:tensorflow:From C:\\Users\\song-\\AppData\\Roaming\\Python\\Python311\\site-packages\\keras\\src\\backend.py:873: The name tf.get_default_graph is deprecated. Please use tf.compat.v1.get_default_graph instead.\n",
            "\n"
          ]
        },
        {
          "name": "stderr",
          "output_type": "stream",
          "text": [
            "Some weights of the PyTorch model were not used when initializing the TF 2.0 model TFBertModel: ['cls.predictions.transform.LayerNorm.weight', 'cls.predictions.bias', 'cls.seq_relationship.bias', 'cls.predictions.transform.dense.bias', 'cls.predictions.transform.LayerNorm.bias', 'cls.predictions.transform.dense.weight', 'cls.seq_relationship.weight']\n",
            "- This IS expected if you are initializing TFBertModel from a PyTorch model trained on another task or with another architecture (e.g. initializing a TFBertForSequenceClassification model from a BertForPreTraining model).\n",
            "- This IS NOT expected if you are initializing TFBertModel from a PyTorch model that you expect to be exactly identical (e.g. initializing a TFBertForSequenceClassification model from a BertForSequenceClassification model).\n",
            "All the weights of TFBertModel were initialized from the PyTorch model.\n",
            "If your task is similar to the task the model of the checkpoint was trained on, you can already use TFBertModel for predictions without further training.\n"
          ]
        },
        {
          "name": "stdout",
          "output_type": "stream",
          "text": [
            "Model: \"tf_bert_model\"\n",
            "_________________________________________________________________\n",
            " Layer (type)                Output Shape              Param #   \n",
            "=================================================================\n",
            " bert (TFBertMainLayer)      multiple                  109482240 \n",
            "                                                                 \n",
            "=================================================================\n",
            "Total params: 109482240 (417.64 MB)\n",
            "Trainable params: 0 (0.00 Byte)\n",
            "Non-trainable params: 109482240 (417.64 MB)\n",
            "_________________________________________________________________\n"
          ]
        }
      ],
      "source": [
        "tokenizer = BertTokenizer.from_pretrained('bert-base-uncased')\n",
        "bert_model = TFBertModel.from_pretrained('bert-base-uncased')\n",
        "bert_model.trainable = False\n",
        "\n",
        "bert_model.summary()"
      ]
    },
    {
      "cell_type": "code",
      "execution_count": null,
      "metadata": {
        "id": "iOedPmhJRX6b"
      },
      "outputs": [],
      "source": [
        "def bert_encode(data, max_len) :\n",
        "    input_ids = []\n",
        "    attention_masks = []\n",
        "    token_type_ids = []\n",
        "\n",
        "    for text in data:\n",
        "        encoded = tokenizer.encode_plus(\n",
        "            text,\n",
        "            add_special_tokens=True,\n",
        "            max_length=max_len,\n",
        "            pad_to_max_length=True,\n",
        "            truncation=True,\n",
        "            return_attention_mask=True,\n",
        "            return_token_type_ids = True\n",
        "        )\n",
        "        input_ids.append(encoded['input_ids'])\n",
        "        token_type_ids.append(encoded['token_type_ids'])\n",
        "        attention_masks.append(encoded['attention_mask'])\n",
        "\n",
        "    return np.array(input_ids), np.array(token_type_ids), np.array(attention_masks)"
      ]
    },
    {
      "cell_type": "code",
      "execution_count": null,
      "metadata": {
        "colab": {
          "base_uri": "https://localhost:8080/"
        },
        "id": "vnB4fq8Rc0fv",
        "outputId": "1eb9f54f-c19a-4e88-9dc1-9f762c6d01da"
      },
      "outputs": [
        {
          "name": "stdout",
          "output_type": "stream",
          "text": [
            "170/170 [==============================] - 339s 2s/step\n",
            "33/33 [==============================] - 54s 2s/step\n",
            "17/17 [==============================] - 36s 2s/step\n"
          ]
        }
      ],
      "source": [
        "max_len = 128\n",
        "\n",
        "input_ids = tf.keras.Input(shape=(max_len,),dtype='int32')\n",
        "token_type_ids = tf.keras.Input(shape=(max_len,),dtype='int32')\n",
        "attention_masks = tf.keras.Input(shape=(max_len,),dtype='int32')\n",
        "output = bert_model([input_ids, token_type_ids, attention_masks])\n",
        "output = output # seq(0) , pool(1)\n",
        "model = Model(inputs =[input_ids, token_type_ids, attention_masks],outputs =output)\n",
        "\n",
        "def get_embeddings(sentences, max_len = max_len):\n",
        "    input_ids, token_type_ids, attention_masks = bert_encode(sentences, max_len)\n",
        "    bert_embs = model.predict([input_ids,token_type_ids,attention_masks])\n",
        "    return bert_embs\n",
        "\n",
        "x_train_embs = get_embeddings(x_train)\n",
        "x_val_embs = get_embeddings(x_val)\n",
        "x_test_embs = get_embeddings(x_test)"
      ]
    },
    {
      "cell_type": "code",
      "execution_count": null,
      "metadata": {
        "colab": {
          "base_uri": "https://localhost:8080/"
        },
        "id": "b0YwSvxVgZkt",
        "outputId": "4773c91c-63ce-4942-bd9c-8186b4da038c"
      },
      "outputs": [
        {
          "data": {
            "text/plain": [
              "array([[ 0.7332704 ,  0.08774465, -0.56510407, ..., -0.0629632 ,\n",
              "         0.15925728, -0.66714686],\n",
              "       [ 0.3071545 , -0.35604528, -0.9685027 , ..., -0.76187277,\n",
              "        -0.24901502, -0.15901177],\n",
              "       [ 0.6037735 , -0.0209004 , -0.645115  , ..., -0.13383931,\n",
              "         0.105645  , -0.26162305],\n",
              "       ...,\n",
              "       [ 0.9490656 ,  0.73766637,  0.9898432 , ...,  0.96456856,\n",
              "         0.7975471 , -0.7744288 ],\n",
              "       [ 0.9459484 ,  0.80439574,  0.998788  , ...,  0.99221224,\n",
              "         0.7895805 , -0.8189565 ],\n",
              "       [ 0.9371354 ,  0.67218727,  0.9570367 , ...,  0.931949  ,\n",
              "         0.75494206, -0.8472685 ]], dtype=float32)"
            ]
          },
          "execution_count": 10,
          "metadata": {},
          "output_type": "execute_result"
        }
      ],
      "source": [
        "x_train_embs[1]"
      ]
    },
    {
      "cell_type": "code",
      "execution_count": null,
      "metadata": {
        "colab": {
          "base_uri": "https://localhost:8080/"
        },
        "id": "dDiNzHMagapw",
        "outputId": "e541868b-18ab-429c-eeee-a7a8c50ac765"
      },
      "outputs": [
        {
          "data": {
            "text/plain": [
              "(5440, 768)"
            ]
          },
          "execution_count": 11,
          "metadata": {},
          "output_type": "execute_result"
        }
      ],
      "source": [
        "x_train_embs[1].shape"
      ]
    },
    {
      "cell_type": "code",
      "execution_count": null,
      "metadata": {
        "id": "fv-FXCZyRX6c",
        "outputId": "640b9770-2ae2-466c-a962-dea62565dfe6"
      },
      "outputs": [
        {
          "data": {
            "text/plain": [
              "(5440, 128, 768)"
            ]
          },
          "execution_count": 12,
          "metadata": {},
          "output_type": "execute_result"
        }
      ],
      "source": [
        "x_train_embs[0].shape"
      ]
    },
    {
      "cell_type": "markdown",
      "metadata": {
        "id": "TU3rxEWrhH31"
      },
      "source": [
        "### dafault DNN V2"
      ]
    },
    {
      "cell_type": "code",
      "execution_count": null,
      "metadata": {
        "colab": {
          "base_uri": "https://localhost:8080/"
        },
        "id": "B6FmaOuJhO-D",
        "outputId": "854da48d-3c0a-4a0e-cfd3-20da6aba5a8a"
      },
      "outputs": [
        {
          "name": "stdout",
          "output_type": "stream",
          "text": [
            "Epoch 1/81\n",
            "43/43 [==============================] - 1s 4ms/step - loss: 0.3609 - accuracy: 0.8474 - val_loss: 0.3976 - val_accuracy: 0.8300\n",
            "Epoch 2/81\n",
            "43/43 [==============================] - 0s 3ms/step - loss: 0.2755 - accuracy: 0.8890 - val_loss: 0.2324 - val_accuracy: 0.9045\n",
            "Epoch 3/81\n",
            "43/43 [==============================] - 0s 2ms/step - loss: 0.2202 - accuracy: 0.9171 - val_loss: 0.1946 - val_accuracy: 0.9179\n",
            "Epoch 4/81\n",
            "43/43 [==============================] - 0s 2ms/step - loss: 0.2111 - accuracy: 0.9199 - val_loss: 0.1758 - val_accuracy: 0.9293\n",
            "Epoch 5/81\n",
            "43/43 [==============================] - 0s 2ms/step - loss: 0.1735 - accuracy: 0.9336 - val_loss: 0.1519 - val_accuracy: 0.9427\n",
            "Epoch 6/81\n",
            "43/43 [==============================] - 0s 2ms/step - loss: 0.1608 - accuracy: 0.9384 - val_loss: 0.1735 - val_accuracy: 0.9436\n",
            "Epoch 7/81\n",
            "43/43 [==============================] - 0s 2ms/step - loss: 0.1627 - accuracy: 0.9364 - val_loss: 0.1590 - val_accuracy: 0.9436\n",
            "Epoch 8/81\n",
            "43/43 [==============================] - 0s 2ms/step - loss: 0.1348 - accuracy: 0.9472 - val_loss: 0.1176 - val_accuracy: 0.9608\n",
            "Epoch 9/81\n",
            "43/43 [==============================] - 0s 2ms/step - loss: 0.1433 - accuracy: 0.9426 - val_loss: 0.2143 - val_accuracy: 0.9140\n",
            "Epoch 10/81\n",
            "43/43 [==============================] - 0s 2ms/step - loss: 0.1263 - accuracy: 0.9513 - val_loss: 0.1234 - val_accuracy: 0.9637\n",
            "Epoch 11/81\n",
            "43/43 [==============================] - 0s 2ms/step - loss: 0.1392 - accuracy: 0.9454 - val_loss: 0.1003 - val_accuracy: 0.9675\n",
            "Epoch 12/81\n",
            "43/43 [==============================] - 0s 2ms/step - loss: 0.1590 - accuracy: 0.9425 - val_loss: 0.1884 - val_accuracy: 0.9398\n",
            "Epoch 13/81\n",
            "43/43 [==============================] - 0s 2ms/step - loss: 0.1388 - accuracy: 0.9480 - val_loss: 0.2708 - val_accuracy: 0.8873\n",
            "Epoch 14/81\n",
            "43/43 [==============================] - 0s 2ms/step - loss: 0.1138 - accuracy: 0.9551 - val_loss: 0.2702 - val_accuracy: 0.8902\n"
          ]
        }
      ],
      "source": [
        "def manual():\n",
        "  model = Sequential()\n",
        "  model.add(Input(shape=(x_train_embs[1].shape[1],)))\n",
        "  model.add(Dense(113, activation='relu'))\n",
        "  # model.add(Dropout(0.2))\n",
        "  model.add(Dense(52, activation='relu'))\n",
        "  # model.add(Dropout(0.1))\n",
        "  model.add(Dense(1, activation='sigmoid'))\n",
        "  model.compile(optimizer=Adam(learning_rate=0.0026870545264693364), loss='binary_crossentropy', metrics=['accuracy'])\n",
        "  return model\n",
        "\n",
        "model = manual()\n",
        "early_stop = tf.keras.callbacks.EarlyStopping(monitor='val_loss', patience=3,min_delta = 0.0001, restore_best_weights=True)\n",
        "history = model.fit(x_train_embs[1], y_train, validation_data=(x_val_embs[1], y_val),\n",
        "                     epochs=81, batch_size=128, callbacks=[early_stop])"
      ]
    },
    {
      "cell_type": "code",
      "execution_count": null,
      "metadata": {
        "colab": {
          "base_uri": "https://localhost:8080/",
          "height": 472
        },
        "id": "7OT9CbMYjW9L",
        "outputId": "44280b03-b27a-4057-e384-254240eb14fa"
      },
      "outputs": [
        {
          "data": {
            "image/png": "[encoded data removed]",
            "text/plain": [
              "<Figure size 640x480 with 1 Axes>"
            ]
          },
          "metadata": {},
          "output_type": "display_data"
        }
      ],
      "source": [
        "epochs = range(1, len(history.history['loss']) + 1)\n",
        "plt.plot(epochs, history.history['loss'], label = 'loss')\n",
        "plt.plot(epochs, history.history['val_loss'], label = 'val_loss')\n",
        "plt.plot(epochs, history.history['accuracy'], label = 'acc')\n",
        "plt.plot(epochs, history.history['val_accuracy'], label = 'val_acc')\n",
        "plt.title('Loss, Accuracy vs Epochs')\n",
        "plt.xlabel(\"Epochs\")\n",
        "plt.ylabel(\"Loss, Accuracy\")\n",
        "plt.legend()\n",
        "plt.show()"
      ]
    },
    {
      "cell_type": "code",
      "execution_count": null,
      "metadata": {
        "id": "BDApF97IRX6c",
        "outputId": "a0f4484c-dc88-4989-c930-fcfb238cff08"
      },
      "outputs": [
        {
          "name": "stdout",
          "output_type": "stream",
          "text": [
            "Model: \"sequential_1\"\n",
            "_________________________________________________________________\n",
            " Layer (type)                Output Shape              Param #   \n",
            "=================================================================\n",
            " dense_3 (Dense)             (None, 113)               86897     \n",
            "                                                                 \n",
            " dense_4 (Dense)             (None, 52)                5928      \n",
            "                                                                 \n",
            " dense_5 (Dense)             (None, 1)                 53        \n",
            "                                                                 \n",
            "=================================================================\n",
            "Total params: 92878 (362.80 KB)\n",
            "Trainable params: 92878 (362.80 KB)\n",
            "Non-trainable params: 0 (0.00 Byte)\n",
            "_________________________________________________________________\n"
          ]
        }
      ],
      "source": [
        "model.summary()"
      ]
    },
    {
      "cell_type": "code",
      "execution_count": null,
      "metadata": {
        "id": "8s4j85fFRX6c",
        "outputId": "ad789bab-e96f-44bf-8d98-098159fe292b"
      },
      "outputs": [
        {
          "name": "stdout",
          "output_type": "stream",
          "text": [
            "170/170 [==============================] - 0s 741us/step - loss: 0.1332 - accuracy: 0.9526\n",
            "train acc =  0.9525735378265381\n"
          ]
        }
      ],
      "source": [
        "loss, acc = model.evaluate(x_train_embs[1], y_train)\n",
        "print('train acc = ', acc)"
      ]
    },
    {
      "cell_type": "code",
      "execution_count": null,
      "metadata": {
        "id": "r4irg_S2RX6c",
        "outputId": "07aadb3b-6552-4173-9d9e-0337c5f438b6"
      },
      "outputs": [
        {
          "name": "stdout",
          "output_type": "stream",
          "text": [
            "17/17 [==============================] - 0s 896us/step - loss: 0.1561 - accuracy: 0.9490\n",
            "test acc =  0.9489603042602539\n"
          ]
        }
      ],
      "source": [
        "loss, acc = model.evaluate(x_test_embs[1], y_test)\n",
        "print('test acc = ', acc)"
      ]
    },
    {
      "cell_type": "code",
      "execution_count": null,
      "metadata": {
        "id": "zIj5f6JnRX6d",
        "outputId": "62feb1ea-029d-4405-b1f2-f03ee0075fdf"
      },
      "outputs": [
        {
          "name": "stdout",
          "output_type": "stream",
          "text": [
            "10 True values : [0, 0, 1, 0, 0, 0, 1, 1, 0, 0, 0, 0, 0, 0, 0, 0, 0, 0, 0, 1]\n",
            "10 Predict values : [0, 0, 1, 0, 0, 0, 1, 1, 0, 0, 0, 0, 0, 0, 0, 0, 0, 0, 0, 1] \n",
            "\n",
            "              precision    recall  f1-score   support\n",
            "\n",
            "           0       0.98      0.96      0.97       451\n",
            "           1       0.80      0.87      0.83        78\n",
            "\n",
            "    accuracy                           0.95       529\n",
            "   macro avg       0.89      0.92      0.90       529\n",
            "weighted avg       0.95      0.95      0.95       529\n",
            "\n"
          ]
        }
      ],
      "source": [
        "pred = model.predict(x_test_embs[1], verbose=0)\n",
        "print('10 True values : {}'.format(y_test.to_list()[:20]))\n",
        "print('10 Predict values : {} \\n'.format([round(x[0]) for x in pred][:20]))\n",
        "print(classification_report(y_test, [round(x[0]) for x in pred]))"
      ]
    },
    {
      "cell_type": "code",
      "execution_count": null,
      "metadata": {
        "id": "zh_qFHhHRX6d",
        "outputId": "9cc0378c-b35b-489b-9387-3106c99161a7"
      },
      "outputs": [
        {
          "name": "stdout",
          "output_type": "stream",
          "text": [
            "[[442   9]\n",
            " [ 23  55]]\n",
            "0.9395085066162571\n",
            "0.859375\n",
            "0.7051282051282052\n",
            "0.7746478873239436\n"
          ]
        }
      ],
      "source": [
        "from sklearn.metrics import confusion_matrix,accuracy_score, precision_score, recall_score, f1_score\n",
        "\n",
        "y_pred = [round(x[0]) for x in pred]\n",
        "y_true = y_test.to_list()\n",
        "print(confusion_matrix(y_true, y_pred))\n",
        "print(accuracy_score(y_true, y_pred))\n",
        "print(precision_score(y_true, y_pred))\n",
        "print(recall_score(y_true, y_pred))\n",
        "print(f1_score(y_true, y_pred))"
      ]
    },
    {
      "cell_type": "markdown",
      "metadata": {
        "id": "pNG9tp6uRX6d"
      },
      "source": [
        "### LSTM V2"
      ]
    },
    {
      "cell_type": "code",
      "execution_count": null,
      "metadata": {
        "id": "XJlG-erGRX6d"
      },
      "outputs": [],
      "source": [
        "def manual_lstm():\n",
        "  model = Sequential()\n",
        "  model.add(Input(shape=(x_train_embs[1].shape[1],)))\n",
        "  model.add(tf.keras.layers.Reshape((1,x_train_embs[1].shape[1])))\n",
        "  model.add(LSTM(140, activation='relu', dropout= 0, return_sequences= True))\n",
        "  model.add(LSTM(75, activation='relu'))\n",
        "  model.add(Dense(125, activation='relu'))\n",
        "  model.add(Dropout(0.3))\n",
        "  model.add(Dense(1, activation='sigmoid'))\n",
        "  model.compile(optimizer=Adam(learning_rate=0.009929423316917789), loss='binary_crossentropy', metrics=['accuracy'])\n",
        "  return model\n",
        "\n",
        "model = manual_lstm()\n",
        "early_stop = tf.keras.callbacks.EarlyStopping(monitor='val_loss', patience=3,min_delta = 0.0001, restore_best_weights=True)\n",
        "history = model.fit(x_train_embs[1], y_train, validation_data=(x_val_embs[1], y_val),\n",
        "                    epochs=20, batch_size=128, callbacks=[early_stop])"
      ]
    },
    {
      "cell_type": "code",
      "execution_count": null,
      "metadata": {
        "id": "QSV4MrvYRX6d"
      },
      "outputs": [],
      "source": [
        "epochs = range(1, len(history.history['loss']) + 1)\n",
        "plt.plot(epochs, history.history['loss'], label = 'loss')\n",
        "plt.plot(epochs, history.history['val_loss'], label = 'val_loss')\n",
        "plt.plot(epochs, history.history['accuracy'], label = 'acc')\n",
        "plt.plot(epochs, history.history['val_accuracy'], label = 'val_acc')\n",
        "plt.title('Loss, Accuracy vs Epochs')\n",
        "plt.xlabel(\"Epochs\")\n",
        "plt.ylabel(\"Loss, Accuracy\")\n",
        "plt.legend()\n",
        "plt.show()"
      ]
    },
    {
      "cell_type": "code",
      "execution_count": null,
      "metadata": {
        "id": "fvH3qLOoRX6d",
        "outputId": "c7b89e1a-3f19-440b-8d32-8dcfaa0b49aa"
      },
      "outputs": [
        {
          "name": "stdout",
          "output_type": "stream",
          "text": [
            "170/170 [==============================] - 0s 1ms/step - loss: 0.3507 - accuracy: 0.8585\n",
            "train acc =  0.8584558963775635\n"
          ]
        }
      ],
      "source": [
        "loss, acc = model.evaluate(x_train_embs[1], y_train)\n",
        "print('train acc = ', acc)"
      ]
    },
    {
      "cell_type": "code",
      "execution_count": null,
      "metadata": {
        "id": "F1wreHVbRX6d",
        "outputId": "503e42b4-43ae-42e7-e35b-6923128de56a"
      },
      "outputs": [
        {
          "name": "stdout",
          "output_type": "stream",
          "text": [
            "17/17 [==============================] - 0s 2ms/step - loss: 0.2813 - accuracy: 0.8828\n",
            "test acc =  0.8827977180480957\n"
          ]
        }
      ],
      "source": [
        "loss, acc = model.evaluate(x_test_embs[1], y_test)\n",
        "print('test acc = ', acc)"
      ]
    },
    {
      "cell_type": "code",
      "execution_count": null,
      "metadata": {
        "id": "pxs97xpBRX6d",
        "outputId": "ab013d1a-d036-4548-c1e2-08f3d984b032"
      },
      "outputs": [
        {
          "name": "stdout",
          "output_type": "stream",
          "text": [
            "10 True values : [0, 0, 1, 0, 0, 0, 1, 1, 0, 0, 0, 0, 0, 0, 0, 0, 0, 0, 0, 1]\n",
            "10 Predict values : [0, 0, 1, 1, 0, 0, 1, 1, 0, 0, 0, 0, 0, 0, 0, 0, 0, 0, 1, 1] \n",
            "\n",
            "              precision    recall  f1-score   support\n",
            "\n",
            "           0       0.93      0.93      0.93       451\n",
            "           1       0.60      0.62      0.61        78\n",
            "\n",
            "    accuracy                           0.88       529\n",
            "   macro avg       0.77      0.77      0.77       529\n",
            "weighted avg       0.88      0.88      0.88       529\n",
            "\n"
          ]
        }
      ],
      "source": [
        "pred = model.predict(x_test_embs[1], verbose=0)\n",
        "print('10 True values : {}'.format(y_test.to_list()[:20]))\n",
        "print('10 Predict values : {} \\n'.format([int(np.round(x)) for x in pred][:20]))\n",
        "print(classification_report(y_test, [int(np.round(x)) for x in pred]))"
      ]
    },
    {
      "cell_type": "markdown",
      "metadata": {
        "id": "lC3G8dmBRX6d"
      },
      "source": [
        "### CNN-LSTM V2"
      ]
    },
    {
      "cell_type": "code",
      "execution_count": null,
      "metadata": {
        "id": "wGJJuSMoRX6d"
      },
      "outputs": [],
      "source": [
        "def manual_cnn_ls():\n",
        "  model = Sequential()\n",
        "  model.add(Input(shape=(768,1)))\n",
        "\n",
        "  model.add(Conv1D(filters=128, kernel_size=3, padding='same', activation='relu'))\n",
        "  model.add(MaxPooling1D(pool_size=2))\n",
        "  model.add(Conv1D(filters=64, kernel_size=3, padding='same', activation='relu'))\n",
        "  model.add(MaxPooling1D(pool_size=2))\n",
        "  model.add(Conv1D(filters=32, kernel_size=3, padding='same', activation='relu'))\n",
        "  model.add(MaxPooling1D(pool_size=2))\n",
        "  model.add(LSTM(256, return_sequences = True, activation='relu', dropout=0.2))\n",
        "  model.add(LSTM(128, activation='relu', dropout=0.1))\n",
        "  model.add(Dense(138, activation='relu'))\n",
        "  model.add(Dense(115, activation='relu'))\n",
        "  model.add(Dropout(0.2))\n",
        "  model.add(Dense(64, activation='relu'))\n",
        "  model.add(Dropout(0.1))\n",
        "  model.add(Dense(1, activation='sigmoid'))\n",
        "\n",
        "  model.compile(optimizer=Adam(learning_rate=0.003), loss='binary_crossentropy', metrics=['accuracy'])\n",
        "  return model\n",
        "\n",
        "model = manual_cnn_ls()\n",
        "early_stop = tf.keras.callbacks.EarlyStopping(monitor='val_loss', patience=3,min_delta = 0.001, restore_best_weights=True)\n",
        "history = model.fit(np.reshape(x_train_embs[1] , (-1, 768, 1)), y_train,\n",
        "                    validation_data=(np.reshape(x_val_embs[1], (-1, 768, 1)), y_val),\n",
        "                    epochs=20, batch_size=128)"
      ]
    },
    {
      "cell_type": "code",
      "execution_count": null,
      "metadata": {
        "id": "PAYD45v5RX6d",
        "outputId": "b0b77676-743c-43a4-d586-119dd536dc5b"
      },
      "outputs": [
        {
          "data": {
            "text/plain": [
              "(1047, 768, 1)"
            ]
          },
          "execution_count": 118,
          "metadata": {},
          "output_type": "execute_result"
        }
      ],
      "source": [
        "# np.reshape(x_val_embs[1], (-1, 768, 1)).shape"
      ]
    },
    {
      "cell_type": "code",
      "execution_count": null,
      "metadata": {
        "id": "Ah_noiDPRX6d"
      },
      "outputs": [],
      "source": [
        "epochs = range(3, len(history.history['loss']) + 1)\n",
        "plt.plot(epochs, history.history['loss'][2:], label = 'loss')\n",
        "plt.plot(epochs, history.history['val_loss'][2:], label = 'val_loss')\n",
        "plt.plot(epochs, history.history['accuracy'][2:], label = 'acc')\n",
        "plt.plot(epochs, history.history['val_accuracy'][2:], label = 'val_acc')\n",
        "plt.title('Loss, Accuracy vs Epochs')\n",
        "plt.xlabel(\"Epochs\")\n",
        "plt.ylabel(\"Loss, Accuracy\")\n",
        "plt.legend()\n",
        "plt.show()"
      ]
    },
    {
      "cell_type": "code",
      "execution_count": null,
      "metadata": {
        "id": "XmFh0B7uRX6d",
        "outputId": "a24a0509-0232-4a25-ee20-e2d86bdb042b"
      },
      "outputs": [
        {
          "name": "stdout",
          "output_type": "stream",
          "text": [
            "170/170 [==============================] - 6s 37ms/step - loss: 0.6931 - accuracy: 0.5000\n",
            "train acc =  0.5\n"
          ]
        }
      ],
      "source": [
        "loss, acc = model.evaluate(np.reshape( x_train_embs[1], (-1, 768, 1) ), y_train)\n",
        "print('train acc = ', acc)"
      ]
    },
    {
      "cell_type": "code",
      "execution_count": null,
      "metadata": {
        "id": "kOiAScljRX6d",
        "outputId": "df07131f-92b8-4a26-b55a-176637e0e306"
      },
      "outputs": [
        {
          "name": "stdout",
          "output_type": "stream",
          "text": [
            "17/17 [==============================] - 1s 36ms/step - loss: 0.6955 - accuracy: 0.1474\n",
            "test acc =  0.14744801819324493\n"
          ]
        }
      ],
      "source": [
        "loss, acc = model.evaluate(np.reshape( x_test_embs[1] , (-1, 768, 1) ), y_test)\n",
        "print('test acc = ', acc)"
      ]
    },
    {
      "cell_type": "code",
      "execution_count": null,
      "metadata": {
        "id": "asu0KtMTRX6d",
        "outputId": "4962d5ec-b02e-4733-d5ee-c9595eeb5b5f"
      },
      "outputs": [
        {
          "name": "stdout",
          "output_type": "stream",
          "text": [
            "10 True values : [0, 0, 1, 0, 0, 0, 1, 1, 0, 0, 0, 0, 0, 0, 0, 0, 0, 0, 0, 1]\n",
            "10 Predict values : [1, 1, 1, 1, 1, 1, 1, 1, 1, 1, 1, 1, 1, 1, 1, 1, 1, 1, 1, 1] \n",
            "\n",
            "{'0': {'precision': 0.0, 'recall': 0.0, 'f1-score': 0.0, 'support': 451.0}, '1': {'precision': 0.14744801512287334, 'recall': 1.0, 'f1-score': 0.257001647446458, 'support': 78.0}, 'accuracy': 0.14744801512287334, 'macro avg': {'precision': 0.07372400756143667, 'recall': 0.5, 'f1-score': 0.128500823723229, 'support': 529.0}, 'weighted avg': {'precision': 0.021740917163675086, 'recall': 0.14744801512287334, 'f1-score': 0.0378943827992887, 'support': 529.0}}\n"
          ]
        }
      ],
      "source": [
        "pred = model.predict(x_test_embs[1], verbose=0)\n",
        "print('10 True values : {}'.format(y_test.to_list()[:20]))\n",
        "print('10 Predict values : {} \\n'.format([int(np.round(x)) for x in pred][:20]))\n",
        "print(classification_report(y_test, [int(np.round(x)) for x in pred], output_dict=True))"
      ]
    },
    {
      "cell_type": "markdown",
      "metadata": {
        "id": "5bu2QZqRxurb"
      },
      "source": [
        "### Hyperband DNN"
      ]
    },
    {
      "cell_type": "code",
      "execution_count": null,
      "metadata": {
        "id": "pArYuU4_RX6e"
      },
      "outputs": [],
      "source": [
        "def hb_dnn(hp):\n",
        "    model = Sequential()\n",
        "    model.add(Input(shape=(768,)))\n",
        "    for i in range(hp.Int(\"num_layers\", min_value=1, max_value=3)):\n",
        "      model.add(Dense(units=hp.Int(\"units_\" + str(i), min_value=32, max_value=256, step=1),\n",
        "                      activation='relu'))\n",
        "      model.add(Dropout(hp.Float(\"dropout_\" + str(i), 0, 0.5, step=0.1)))\n",
        "    model.add(Dense(1, activation='sigmoid'))\n",
        "\n",
        "    # compile the model\n",
        "    model.compile(optimizer=tf.keras.optimizers.Adam(learning_rate=hp.Float(\"lr\", 1e-4, 1e-2, sampling ='log')),\n",
        "                  loss='binary_crossentropy',\n",
        "                  metrics=['accuracy'])\n",
        "\n",
        "    return model"
      ]
    },
    {
      "cell_type": "code",
      "execution_count": null,
      "metadata": {
        "colab": {
          "base_uri": "https://localhost:8080/"
        },
        "id": "FBWgfKNb1f5X",
        "outputId": "d603abe9-3b44-4e4d-d494-6b6db156b32e"
      },
      "outputs": [
        {
          "name": "stdout",
          "output_type": "stream",
          "text": [
            "Reloading Tuner from kt_dnn_4\\kt_hyperband\\tuner0.json\n",
            "Search space summary\n",
            "Default search space size: 8\n",
            "num_layers (Int)\n",
            "{'default': None, 'conditions': [], 'min_value': 1, 'max_value': 3, 'step': 1, 'sampling': 'linear'}\n",
            "units_0 (Int)\n",
            "{'default': None, 'conditions': [], 'min_value': 32, 'max_value': 256, 'step': 1, 'sampling': 'linear'}\n",
            "dropout_0 (Float)\n",
            "{'default': 0.0, 'conditions': [], 'min_value': 0.0, 'max_value': 0.5, 'step': 0.1, 'sampling': 'linear'}\n",
            "lr (Float)\n",
            "{'default': 0.0001, 'conditions': [], 'min_value': 0.0001, 'max_value': 0.01, 'step': None, 'sampling': 'log'}\n",
            "units_1 (Int)\n",
            "{'default': None, 'conditions': [], 'min_value': 32, 'max_value': 256, 'step': 1, 'sampling': 'linear'}\n",
            "dropout_1 (Float)\n",
            "{'default': 0.0, 'conditions': [], 'min_value': 0.0, 'max_value': 0.5, 'step': 0.1, 'sampling': 'linear'}\n",
            "units_2 (Int)\n",
            "{'default': None, 'conditions': [], 'min_value': 32, 'max_value': 256, 'step': 1, 'sampling': 'linear'}\n",
            "dropout_2 (Float)\n",
            "{'default': 0.0, 'conditions': [], 'min_value': 0.0, 'max_value': 0.5, 'step': 0.1, 'sampling': 'linear'}\n"
          ]
        }
      ],
      "source": [
        "# Instantiate the tuner\n",
        "tuner = kt.Hyperband(hb_dnn,\n",
        "                     objective=\"val_loss\",\n",
        "                     max_epochs=81,\n",
        "                     factor=3,\n",
        "                     directory=\"kt_dnn_4\",\n",
        "                     project_name=\"kt_hyperband\",\n",
        "                     seed = 101)\n",
        "\n",
        "# Display search space summary\n",
        "tuner.search_space_summary()"
      ]
    },
    {
      "cell_type": "code",
      "execution_count": null,
      "metadata": {
        "id": "prbszcmY1o0a"
      },
      "outputs": [],
      "source": [
        "early_stop = tf.keras.callbacks.EarlyStopping(monitor='val_loss', patience=3,\n",
        "                                              min_delta = 0.001, restore_best_weights=True)\n",
        "\n",
        "tuner.search(x_train_embs[1], y_train, validation_data=(x_val_embs[1], y_val),\n",
        "             epochs=20, batch_size=128, callbacks=[early_stop], verbose=2)"
      ]
    },
    {
      "cell_type": "code",
      "execution_count": null,
      "metadata": {
        "id": "leeVtOK31xK6",
        "outputId": "fca26826-e856-4e98-e2a5-cb95ef356bd7"
      },
      "outputs": [
        {
          "name": "stdout",
          "output_type": "stream",
          "text": [
            "units_0 =  113\n",
            "units_1 =  52\n",
            "units_2 =  233\n",
            "lr =  0.0026870545264693364\n",
            "num_layers =  2\n",
            "dropout_0 =  0.0\n",
            "dropout_1 =  0.0\n",
            "dropout_2 =  0.30000000000000004\n"
          ]
        }
      ],
      "source": [
        "# Get the optimal hyperparameters\n",
        "best_hps=tuner.get_best_hyperparameters()[0]\n",
        "print('units_0 = ', best_hps.get('units_0'))\n",
        "print('units_1 = ', best_hps.get('units_1'))\n",
        "print('units_2 = ', best_hps.get('units_2'))\n",
        "print('lr = ', best_hps.get('lr'))\n",
        "print('num_layers = ', best_hps.get('num_layers'))\n",
        "print('dropout_0 = ', best_hps.get('dropout_0'))\n",
        "print('dropout_1 = ', best_hps.get('dropout_1'))\n",
        "print('dropout_2 = ', best_hps.get('dropout_2'))"
      ]
    },
    {
      "cell_type": "code",
      "execution_count": null,
      "metadata": {
        "id": "NFTQV5Jk1sXJ",
        "outputId": "8b177437-a0cb-400a-dd57-bc971cf32af3"
      },
      "outputs": [
        {
          "name": "stdout",
          "output_type": "stream",
          "text": [
            "17/17 [==============================] - 0s 1ms/step - loss: 0.1231 - accuracy: 0.9509\n",
            "[0.12314346432685852, 0.9508506655693054]\n"
          ]
        }
      ],
      "source": [
        "best_dnn = tuner.get_best_models()[0]\n",
        "print(best_dnn.evaluate(x_test_embs[1], y_test))"
      ]
    },
    {
      "cell_type": "code",
      "execution_count": null,
      "metadata": {
        "id": "G2ojOURaRX6h",
        "outputId": "d4f4a984-86aa-49bf-da40-7d81e16e07e5"
      },
      "outputs": [
        {
          "name": "stdout",
          "output_type": "stream",
          "text": [
            "Model: \"sequential\"\n",
            "_________________________________________________________________\n",
            " Layer (type)                Output Shape              Param #   \n",
            "=================================================================\n",
            " dense (Dense)               (None, 113)               86897     \n",
            "                                                                 \n",
            " dropout (Dropout)           (None, 113)               0         \n",
            "                                                                 \n",
            " dense_1 (Dense)             (None, 52)                5928      \n",
            "                                                                 \n",
            " dropout_1 (Dropout)         (None, 52)                0         \n",
            "                                                                 \n",
            " dense_2 (Dense)             (None, 1)                 53        \n",
            "                                                                 \n",
            "=================================================================\n",
            "Total params: 92878 (362.80 KB)\n",
            "Trainable params: 92878 (362.80 KB)\n",
            "Non-trainable params: 0 (0.00 Byte)\n",
            "_________________________________________________________________\n"
          ]
        }
      ],
      "source": [
        "best_dnn.summary()"
      ]
    },
    {
      "cell_type": "code",
      "execution_count": null,
      "metadata": {
        "id": "BtShaIO8RX6h",
        "outputId": "b492217a-7d1e-4df4-82b0-c2587d666173"
      },
      "outputs": [
        {
          "name": "stdout",
          "output_type": "stream",
          "text": [
            "10 True values : [0, 0, 1, 0, 0, 0, 1, 1, 0, 0, 0, 0, 0, 0, 0, 0, 0, 0, 0, 1]\n",
            "10 Predict values : [0, 0, 1, 0, 0, 0, 1, 1, 0, 0, 0, 0, 0, 0, 0, 0, 0, 0, 0, 1] \n",
            "\n",
            "              precision    recall  f1-score   support\n",
            "\n",
            "           0       0.97      0.98      0.97       451\n",
            "           1       0.85      0.81      0.83        78\n",
            "\n",
            "    accuracy                           0.95       529\n",
            "   macro avg       0.91      0.89      0.90       529\n",
            "weighted avg       0.95      0.95      0.95       529\n",
            "\n"
          ]
        }
      ],
      "source": [
        "best_dnn_pred = best_dnn.predict(x_test_embs[1], verbose=0)\n",
        "print('10 True values : {}'.format(y_test.to_list()[:20]))\n",
        "print('10 Predict values : {} \\n'.format([round(x[0]) for x in best_dnn_pred][:20]))\n",
        "print(classification_report(y_test, [round(x[0]) for x in best_dnn_pred], output_dict=True))"
      ]
    },
    {
      "cell_type": "markdown",
      "metadata": {
        "id": "yOp_YmDkRX6h"
      },
      "source": [
        "### Hyperband LSTM"
      ]
    },
    {
      "cell_type": "code",
      "execution_count": null,
      "metadata": {
        "id": "xU9BYn-6RX6h"
      },
      "outputs": [],
      "source": [
        "def hb_lstm(hp):\n",
        "    model = Sequential()\n",
        "    model.add(Input(shape=(768,)))\n",
        "    model.add(tf.keras.layers.Reshape((1,768)))\n",
        "    model.add(LSTM(hp.Int(\"units_start\", min_value=128, max_value=256, step=1), activation='relu', return_sequences = True,\n",
        "                   dropout= hp.Float(\"dropout_lstm1\", 0, 0.5, step=0.1)))\n",
        "    model.add(LSTM(hp.Int(\"units_lstm\", min_value=64, max_value=128, step=1), activation='relu',\n",
        "                   dropout= hp.Float(\"dropout_lstm2\", 0, 0.5, step=0.1)))\n",
        "    for i in range(hp.Int(\"num_layers\", min_value=1, max_value=3)):\n",
        "      model.add(Dense(units=hp.Int(\"units_dense_\" + str(i), min_value=32, max_value=128, step=1),\n",
        "                      activation='relu'))\n",
        "      model.add(Dropout(hp.Float(\"dropout_\" + str(i), 0, 0.5, step=0.1)))\n",
        "    model.add(Dense(1, activation='sigmoid'))\n",
        "\n",
        "    # compile the model\n",
        "    model.compile(optimizer=tf.keras.optimizers.Adam(learning_rate=hp.Float(\"lr\", 1e-4, 1e-2, sampling ='log')),\n",
        "                  loss='binary_crossentropy',\n",
        "                  metrics=['accuracy'])\n",
        "\n",
        "    return model"
      ]
    },
    {
      "cell_type": "code",
      "execution_count": null,
      "metadata": {
        "id": "zfglP8z3RX6h",
        "outputId": "185b7121-eeab-4c85-e78b-d9ad60cc0eca"
      },
      "outputs": [
        {
          "name": "stdout",
          "output_type": "stream",
          "text": [
            "Reloading Tuner from kt_lstm_4_1\\kt_hyperband\\tuner0.json\n",
            "Search space summary\n",
            "Default search space size: 12\n",
            "units_start (Int)\n",
            "{'default': None, 'conditions': [], 'min_value': 128, 'max_value': 256, 'step': 1, 'sampling': 'linear'}\n",
            "dropout_lstm1 (Float)\n",
            "{'default': 0.0, 'conditions': [], 'min_value': 0.0, 'max_value': 0.5, 'step': 0.1, 'sampling': 'linear'}\n",
            "units_lstm (Int)\n",
            "{'default': None, 'conditions': [], 'min_value': 64, 'max_value': 128, 'step': 1, 'sampling': 'linear'}\n",
            "dropout_lstm2 (Float)\n",
            "{'default': 0.0, 'conditions': [], 'min_value': 0.0, 'max_value': 0.5, 'step': 0.1, 'sampling': 'linear'}\n",
            "num_layers (Int)\n",
            "{'default': None, 'conditions': [], 'min_value': 1, 'max_value': 3, 'step': 1, 'sampling': 'linear'}\n",
            "units_dense_0 (Int)\n",
            "{'default': None, 'conditions': [], 'min_value': 32, 'max_value': 128, 'step': 1, 'sampling': 'linear'}\n",
            "dropout_0 (Float)\n",
            "{'default': 0.0, 'conditions': [], 'min_value': 0.0, 'max_value': 0.5, 'step': 0.1, 'sampling': 'linear'}\n",
            "lr (Float)\n",
            "{'default': 0.0001, 'conditions': [], 'min_value': 0.0001, 'max_value': 0.01, 'step': None, 'sampling': 'log'}\n",
            "units_dense_1 (Int)\n",
            "{'default': None, 'conditions': [], 'min_value': 32, 'max_value': 128, 'step': 1, 'sampling': 'linear'}\n",
            "dropout_1 (Float)\n",
            "{'default': 0.0, 'conditions': [], 'min_value': 0.0, 'max_value': 0.5, 'step': 0.1, 'sampling': 'linear'}\n",
            "units_dense_2 (Int)\n",
            "{'default': None, 'conditions': [], 'min_value': 32, 'max_value': 128, 'step': 1, 'sampling': 'linear'}\n",
            "dropout_2 (Float)\n",
            "{'default': 0.0, 'conditions': [], 'min_value': 0.0, 'max_value': 0.5, 'step': 0.1, 'sampling': 'linear'}\n"
          ]
        }
      ],
      "source": [
        "# Instantiate the tuner\n",
        "tuner1 = kt.Hyperband(hb_lstm,\n",
        "                     objective=\"val_loss\",\n",
        "                     max_epochs=81,\n",
        "                     factor=3,\n",
        "                     directory=\"kt_lstm_4_1\",\n",
        "                     project_name=\"kt_hyperband\",\n",
        "                     seed = 101)\n",
        "\n",
        "# Display search space summary\n",
        "tuner1.search_space_summary()"
      ]
    },
    {
      "cell_type": "code",
      "execution_count": null,
      "metadata": {
        "id": "9shC2gTmRX6h"
      },
      "outputs": [],
      "source": [
        "early_stop = tf.keras.callbacks.EarlyStopping(monitor='val_loss', patience=3,\n",
        "                                              min_delta = 0.001, restore_best_weights=True)\n",
        "\n",
        "tuner1.search(x_train_embs[1], y_train, validation_data=(x_val_embs[1], y_val),\n",
        "             epochs=20, batch_size=128, callbacks=[early_stop], verbose=2)"
      ]
    },
    {
      "cell_type": "code",
      "execution_count": null,
      "metadata": {
        "id": "8RCvH6mpRX6h",
        "outputId": "a3f518db-7f03-4b96-ae2d-af35252163b9"
      },
      "outputs": [
        {
          "name": "stdout",
          "output_type": "stream",
          "text": [
            "units_start =  140\n",
            "dropout_lstm1 =  0.0\n",
            "units_lstm =  75\n",
            "dropout_lstm2 =  0.30000000000000004\n",
            "num_layers =  3\n",
            "units_dense_0 =  116\n",
            "dropout_0 =  0.30000000000000004\n",
            "lr =  0.0016274878533905327\n",
            "units_dense_1 =  127\n",
            "units_dense_1 =  0.0\n",
            "units_dense_2 =  127\n",
            "units_dense_2 =  0.0\n"
          ]
        }
      ],
      "source": [
        "# Get the optimal hyperparameters\n",
        "best_lstm_hps=tuner1.get_best_hyperparameters()[0]\n",
        "print('units_start = ', best_lstm_hps.get('units_start'))\n",
        "print('dropout_lstm1 = ', best_lstm_hps.get('dropout_lstm1'))\n",
        "print('units_lstm = ', best_lstm_hps.get('units_lstm'))\n",
        "print('dropout_lstm2 = ', best_lstm_hps.get('dropout_lstm2'))\n",
        "print('num_layers = ', best_lstm_hps.get('num_layers'))\n",
        "print('units_dense_0 = ', best_lstm_hps.get('units_dense_0'))\n",
        "print('dropout_0 = ', best_lstm_hps.get('dropout_0'))\n",
        "print('lr = ', best_lstm_hps.get('lr'))\n",
        "print('units_dense_1 = ', best_lstm_hps.get('units_dense_1'))\n",
        "print('units_dense_1 = ', best_lstm_hps.get('dropout_1'))\n",
        "print('units_dense_2 = ', best_lstm_hps.get('units_dense_1'))\n",
        "print('units_dense_2 = ', best_lstm_hps.get('dropout_1'))\n"
      ]
    },
    {
      "cell_type": "code",
      "execution_count": null,
      "metadata": {
        "id": "JojRQnrIRX6h",
        "outputId": "f91be941-f469-4056-c43c-c70dfd1c1f85"
      },
      "outputs": [
        {
          "name": "stdout",
          "output_type": "stream",
          "text": [
            "WARNING:tensorflow:From C:\\Users\\song-\\AppData\\Roaming\\Python\\Python311\\site-packages\\keras\\src\\saving\\legacy\\save.py:538: The name tf.train.NewCheckpointReader is deprecated. Please use tf.compat.v1.train.NewCheckpointReader instead.\n",
            "\n",
            "WARNING:tensorflow:From C:\\Users\\song-\\AppData\\Roaming\\Python\\Python311\\site-packages\\keras\\src\\utils\\tf_utils.py:492: The name tf.ragged.RaggedTensorValue is deprecated. Please use tf.compat.v1.ragged.RaggedTensorValue instead.\n",
            "\n",
            "WARNING:tensorflow:From C:\\Users\\song-\\AppData\\Roaming\\Python\\Python311\\site-packages\\keras\\src\\engine\\base_layer_utils.py:384: The name tf.executing_eagerly_outside_functions is deprecated. Please use tf.compat.v1.executing_eagerly_outside_functions instead.\n",
            "\n",
            "17/17 [==============================] - 1s 2ms/step - loss: 0.1400 - accuracy: 0.9452\n",
            "[0.13996852934360504, 0.9451795816421509]\n"
          ]
        }
      ],
      "source": [
        "best_lstm = tuner1.get_best_models()[0]\n",
        "print(best_lstm.evaluate(x_test_embs[1], y_test))"
      ]
    },
    {
      "cell_type": "code",
      "execution_count": null,
      "metadata": {
        "id": "sn_MGJhbRX6h",
        "outputId": "8d2dcc92-29cb-4e24-893c-50075bcc2669"
      },
      "outputs": [
        {
          "name": "stdout",
          "output_type": "stream",
          "text": [
            "Model: \"sequential\"\n",
            "_________________________________________________________________\n",
            " Layer (type)                Output Shape              Param #   \n",
            "=================================================================\n",
            " reshape (Reshape)           (None, 1, 768)            0         \n",
            "                                                                 \n",
            " lstm (LSTM)                 (None, 1, 140)            509040    \n",
            "                                                                 \n",
            " lstm_1 (LSTM)               (None, 75)                64800     \n",
            "                                                                 \n",
            " dense (Dense)               (None, 116)               8816      \n",
            "                                                                 \n",
            " dropout (Dropout)           (None, 116)               0         \n",
            "                                                                 \n",
            " dense_1 (Dense)             (None, 127)               14859     \n",
            "                                                                 \n",
            " dropout_1 (Dropout)         (None, 127)               0         \n",
            "                                                                 \n",
            " dense_2 (Dense)             (None, 110)               14080     \n",
            "                                                                 \n",
            " dropout_2 (Dropout)         (None, 110)               0         \n",
            "                                                                 \n",
            " dense_3 (Dense)             (None, 1)                 111       \n",
            "                                                                 \n",
            "=================================================================\n",
            "Total params: 611706 (2.33 MB)\n",
            "Trainable params: 611706 (2.33 MB)\n",
            "Non-trainable params: 0 (0.00 Byte)\n",
            "_________________________________________________________________\n"
          ]
        }
      ],
      "source": [
        "best_lstm.summary()"
      ]
    },
    {
      "cell_type": "code",
      "execution_count": null,
      "metadata": {
        "id": "v5mfA6vURX6h",
        "outputId": "84f15c65-f784-4f33-8202-312b71d19be0"
      },
      "outputs": [
        {
          "name": "stdout",
          "output_type": "stream",
          "text": [
            "Epoch 1/20\n",
            "43/43 [==============================] - 2s 14ms/step - loss: 0.4085 - accuracy: 0.8259 - val_loss: 0.2672 - val_accuracy: 0.8797\n",
            "Epoch 2/20\n",
            "43/43 [==============================] - 0s 7ms/step - loss: 0.3269 - accuracy: 0.8708 - val_loss: 0.3023 - val_accuracy: 0.8653\n",
            "Epoch 3/20\n",
            "43/43 [==============================] - 0s 6ms/step - loss: 0.2859 - accuracy: 0.8816 - val_loss: 0.2251 - val_accuracy: 0.8959\n",
            "Epoch 4/20\n",
            "43/43 [==============================] - 0s 8ms/step - loss: 0.2597 - accuracy: 0.8974 - val_loss: 0.3578 - val_accuracy: 0.8443\n",
            "Epoch 5/20\n",
            "43/43 [==============================] - 0s 6ms/step - loss: 0.2360 - accuracy: 0.9108 - val_loss: 0.1892 - val_accuracy: 0.9322\n",
            "Epoch 6/20\n",
            "43/43 [==============================] - 0s 7ms/step - loss: 0.2198 - accuracy: 0.9191 - val_loss: 0.1770 - val_accuracy: 0.9351\n",
            "Epoch 7/20\n",
            "43/43 [==============================] - 0s 6ms/step - loss: 0.2031 - accuracy: 0.9241 - val_loss: 0.1841 - val_accuracy: 0.9293\n",
            "Epoch 8/20\n",
            "43/43 [==============================] - 0s 7ms/step - loss: 0.2007 - accuracy: 0.9232 - val_loss: 0.2157 - val_accuracy: 0.9169\n",
            "Epoch 9/20\n",
            "43/43 [==============================] - 0s 7ms/step - loss: 0.1848 - accuracy: 0.9312 - val_loss: 0.1383 - val_accuracy: 0.9561\n",
            "Epoch 10/20\n",
            "43/43 [==============================] - 0s 7ms/step - loss: 0.1839 - accuracy: 0.9303 - val_loss: 0.3461 - val_accuracy: 0.8863\n",
            "Epoch 11/20\n",
            "43/43 [==============================] - 0s 6ms/step - loss: 0.2012 - accuracy: 0.9221 - val_loss: 0.1714 - val_accuracy: 0.9408\n",
            "Epoch 12/20\n",
            "43/43 [==============================] - 0s 7ms/step - loss: 0.1669 - accuracy: 0.9316 - val_loss: 0.1416 - val_accuracy: 0.9494\n"
          ]
        }
      ],
      "source": [
        "model = tuner1.hypermodel.build(best_lstm_hps)\n",
        "early_stop = tf.keras.callbacks.EarlyStopping(monitor='val_loss', patience=3,min_delta = 0.001, restore_best_weights=True)\n",
        "history = model.fit(x_train_embs[1], y_train, validation_data=(x_val_embs[1], y_val),\n",
        "                    epochs=20, batch_size=128, callbacks=[early_stop])"
      ]
    },
    {
      "cell_type": "code",
      "execution_count": null,
      "metadata": {
        "id": "ri7unGf9RX6i",
        "outputId": "150317db-6ea8-4111-dd6e-53ed41151bf8"
      },
      "outputs": [
        {
          "data": {
            "image/png": "[encoded data removed]",
            "text/plain": [
              "<Figure size 640x480 with 1 Axes>"
            ]
          },
          "metadata": {},
          "output_type": "display_data"
        }
      ],
      "source": [
        "epochs = range(1, len(history.history['loss']) + 1)\n",
        "plt.plot(epochs, history.history['loss'], label = 'loss')\n",
        "plt.plot(epochs, history.history['val_loss'], label = 'val_loss')\n",
        "plt.plot(epochs, history.history['accuracy'], label = 'acc')\n",
        "plt.plot(epochs, history.history['val_accuracy'], label = 'val_acc')\n",
        "plt.title('Loss, Accuracy vs Epochs')\n",
        "plt.xlabel(\"Epochs\")\n",
        "plt.ylabel(\"Loss, Accuracy\")\n",
        "plt.legend()\n",
        "plt.show()"
      ]
    },
    {
      "cell_type": "code",
      "execution_count": null,
      "metadata": {
        "id": "DEw49x7iRX6i",
        "outputId": "5b715afa-393e-4a6f-8eb2-4ddafc498e58"
      },
      "outputs": [
        {
          "name": "stdout",
          "output_type": "stream",
          "text": [
            "10 True values : [0, 0, 1, 0, 0, 0, 1, 1, 0, 0, 0, 0, 0, 0, 0, 0, 0, 0, 0, 1]\n",
            "10 Predict values : [0, 0, 1, 0, 0, 0, 1, 1, 0, 0, 0, 0, 0, 0, 0, 0, 0, 0, 0, 1] \n",
            "\n",
            "{'0': {'precision': 0.9668141592920354, 'recall': 0.9689578713968958, 'f1-score': 0.9678848283499446, 'support': 451.0}, '1': {'precision': 0.8181818181818182, 'recall': 0.8076923076923077, 'f1-score': 0.8129032258064516, 'support': 78.0}, 'accuracy': 0.945179584120983, 'macro avg': {'precision': 0.8924979887369269, 'recall': 0.8883250895446018, 'f1-score': 0.890394027078198, 'support': 529.0}, 'weighted avg': {'precision': 0.9448986156122681, 'recall': 0.945179584120983, 'f1-score': 0.9450330986743445, 'support': 529.0}}\n"
          ]
        }
      ],
      "source": [
        "best_lstm_pred = best_lstm.predict(x_test_embs[1], verbose=0)\n",
        "print('10 True values : {}'.format(y_test.to_list()[:20]))\n",
        "print('10 Predict values : {} \\n'.format([round(x[0]) for x in best_lstm_pred][:20]))\n",
        "print(classification_report(y_test, [round(x[0]) for x in best_lstm_pred], output_dict=True))"
      ]
    },
    {
      "cell_type": "code",
      "execution_count": null,
      "metadata": {
        "id": "yYi2QipURX6i",
        "outputId": "e64a908d-4c59-4df4-ac0b-68443b7e93c4"
      },
      "outputs": [
        {
          "name": "stdout",
          "output_type": "stream",
          "text": [
            "[[437  14]\n",
            " [ 15  63]]\n",
            "0.945179584120983\n",
            "0.8181818181818182\n",
            "0.8076923076923077\n",
            "0.8129032258064516\n"
          ]
        }
      ],
      "source": [
        "from sklearn.metrics import confusion_matrix,accuracy_score, precision_score, recall_score, f1_score\n",
        "\n",
        "y_pred = [round(x[0]) for x in best_lstm_pred]\n",
        "y_true = y_test.to_list()\n",
        "print(confusion_matrix(y_true, y_pred))\n",
        "print(accuracy_score(y_true, y_pred))\n",
        "print(precision_score(y_true, y_pred))\n",
        "print(recall_score(y_true, y_pred))\n",
        "print(f1_score(y_true, y_pred))"
      ]
    },
    {
      "cell_type": "markdown",
      "metadata": {
        "id": "Um1f-hNaRX6i"
      },
      "source": [
        "### Hyperband CNN+LSTM"
      ]
    },
    {
      "cell_type": "code",
      "execution_count": null,
      "metadata": {
        "id": "4qbjMZwJRX6i"
      },
      "outputs": [],
      "source": [
        "def hb_cnn_lstm(hp):\n",
        "    model = Sequential()\n",
        "    model.add(Input(shape=(768,1)))\n",
        "    model.add(Conv1D(filters=128, kernel_size=3, padding='same', activation='relu'))\n",
        "    model.add(MaxPooling1D(pool_size=2))\n",
        "    model.add(Conv1D(filters=64, kernel_size=3, padding='same', activation='relu'))\n",
        "    model.add(MaxPooling1D(pool_size=2))\n",
        "    model.add(Conv1D(filters=32, kernel_size=3, padding='same', activation='relu'))\n",
        "    model.add(MaxPooling1D(pool_size=2))\n",
        "    model.add(LSTM(hp.Int(\"units_start\", min_value=128, max_value=256), activation='relu', return_sequences = True,\n",
        "                   dropout= hp.Float(\"dropout_lstm1\", 0, 0.5, step=0.1)))\n",
        "    model.add(LSTM(hp.Int(\"units_lstm_base\", min_value=32, max_value=128), activation='relu',\n",
        "                   dropout= hp.Float(\"dropout_lstm2\", 0, 0.5, step=0.1)))\n",
        "    for i in range(hp.Int(\"num_layers\", min_value=1, max_value=2)):\n",
        "      model.add(Dense(units=hp.Int(\"units_dense_\" + str(i), min_value=32, max_value=64),\n",
        "                      activation='relu'))\n",
        "      model.add(Dropout(hp.Float(\"dropout_\" + str(i), 0, 0.5, step=0.1)))\n",
        "    model.add(Dense(1, activation='sigmoid'))\n",
        "\n",
        "\n",
        "    # compile the model\n",
        "    model.compile(optimizer=tf.keras.optimizers.Adam(learning_rate=hp.Float(\"lr\", 1e-4, 1e-2, sampling ='log')),\n",
        "                  loss='binary_crossentropy',\n",
        "                  metrics=['accuracy'])\n",
        "\n",
        "    return model"
      ]
    },
    {
      "cell_type": "code",
      "execution_count": null,
      "metadata": {
        "id": "HvniWu6HRX6i",
        "outputId": "db4315b2-cecf-4f51-e460-85f72603798d"
      },
      "outputs": [
        {
          "name": "stdout",
          "output_type": "stream",
          "text": [
            "Reloading Tuner from kt_comb_4_1\\kt_hyperband\\tuner0.json\n",
            "Search space summary\n",
            "Default search space size: 10\n",
            "units_start (Int)\n",
            "{'default': None, 'conditions': [], 'min_value': 128, 'max_value': 256, 'step': 1, 'sampling': 'linear'}\n",
            "dropout_lstm1 (Float)\n",
            "{'default': 0.0, 'conditions': [], 'min_value': 0.0, 'max_value': 0.5, 'step': 0.1, 'sampling': 'linear'}\n",
            "units_lstm_base (Int)\n",
            "{'default': None, 'conditions': [], 'min_value': 32, 'max_value': 128, 'step': 1, 'sampling': 'linear'}\n",
            "dropout_lstm2 (Float)\n",
            "{'default': 0.0, 'conditions': [], 'min_value': 0.0, 'max_value': 0.5, 'step': 0.1, 'sampling': 'linear'}\n",
            "num_layers (Int)\n",
            "{'default': None, 'conditions': [], 'min_value': 1, 'max_value': 2, 'step': 1, 'sampling': 'linear'}\n",
            "units_dense_0 (Int)\n",
            "{'default': None, 'conditions': [], 'min_value': 32, 'max_value': 64, 'step': 1, 'sampling': 'linear'}\n",
            "dropout_0 (Float)\n",
            "{'default': 0.0, 'conditions': [], 'min_value': 0.0, 'max_value': 0.5, 'step': 0.1, 'sampling': 'linear'}\n",
            "lr (Float)\n",
            "{'default': 0.0001, 'conditions': [], 'min_value': 0.0001, 'max_value': 0.01, 'step': None, 'sampling': 'log'}\n",
            "units_dense_1 (Int)\n",
            "{'default': None, 'conditions': [], 'min_value': 32, 'max_value': 64, 'step': 1, 'sampling': 'linear'}\n",
            "dropout_1 (Float)\n",
            "{'default': 0.0, 'conditions': [], 'min_value': 0.0, 'max_value': 0.5, 'step': 0.1, 'sampling': 'linear'}\n"
          ]
        }
      ],
      "source": [
        "# Instantiate the tuner\n",
        "tuner2 = kt.Hyperband(hb_cnn_lstm,\n",
        "                     objective=\"val_loss\",\n",
        "                     max_epochs=81,\n",
        "                     factor=3,\n",
        "                     directory=\"kt_comb_4_1\",\n",
        "                     project_name=\"kt_hyperband\",\n",
        "                     seed = 101)\n",
        "\n",
        "# Display search space summary\n",
        "tuner2.search_space_summary()"
      ]
    },
    {
      "cell_type": "code",
      "execution_count": null,
      "metadata": {
        "id": "K_AxmkjFRX6i"
      },
      "outputs": [],
      "source": [
        "early_stop = tf.keras.callbacks.EarlyStopping(monitor='val_loss', patience=3,\n",
        "                                              min_delta = 0.001, restore_best_weights=True)\n",
        "\n",
        "tuner2.search(np.reshape( x_train_embs[1] , (-1, 768, 1) ), y_train,\n",
        "              validation_data=(np.reshape( x_val_embs[1] , (-1, 768, 1) ), y_val),\n",
        "             epochs=20, batch_size=128, callbacks=[early_stop], verbose=2)"
      ]
    },
    {
      "cell_type": "code",
      "execution_count": null,
      "metadata": {
        "id": "ZyykJKtRRX6i",
        "outputId": "c76f18fa-1314-4b51-86ec-dc35c72faead"
      },
      "outputs": [
        {
          "name": "stdout",
          "output_type": "stream",
          "text": [
            "units_start =  180\n",
            "dropout_lstm1 =  0.0\n",
            "units_lstm_base =  83\n",
            "dropout_lstm2 =  0.2\n",
            "num_layers =  2\n",
            "lr =  0.0009597364113807246\n",
            "units_dense_0 =  47\n",
            "dropout_0 =  0.4\n",
            "units_dense_1 =  39\n",
            "dropout_1 =  0.0\n"
          ]
        }
      ],
      "source": [
        "# Get the optimal hyperparameters\n",
        "best_lstm_hps=tuner2.get_best_hyperparameters()[0]\n",
        "print('units_start = ', best_lstm_hps.get('units_start'))\n",
        "print('dropout_lstm1 = ', best_lstm_hps.get('dropout_lstm1'))\n",
        "print('units_lstm_base = ', best_lstm_hps.get('units_lstm_base'))\n",
        "print('dropout_lstm2 = ', best_lstm_hps.get('dropout_lstm2'))\n",
        "print('num_layers = ', best_lstm_hps.get('num_layers'))\n",
        "print('lr = ', best_lstm_hps.get('lr'))\n",
        "print('units_dense_0 = ', best_lstm_hps.get('units_dense_0'))\n",
        "print('dropout_0 = ', best_lstm_hps.get('dropout_0'))\n",
        "print('units_dense_1 = ', best_lstm_hps.get('units_dense_1'))\n",
        "print('dropout_1 = ', best_lstm_hps.get('dropout_1'))"
      ]
    },
    {
      "cell_type": "code",
      "execution_count": null,
      "metadata": {
        "id": "rp6LCGjHRX6i",
        "outputId": "b4fe4b0c-f120-4961-ea1a-0cc4b11cb18b"
      },
      "outputs": [
        {
          "name": "stdout",
          "output_type": "stream",
          "text": [
            "17/17 [==============================] - 1s 25ms/step - loss: 0.1585 - accuracy: 0.9395\n",
            "[0.15848462283611298, 0.9395084977149963]\n"
          ]
        }
      ],
      "source": [
        "best_comb = tuner2.get_best_models()[0]\n",
        "print(best_comb.evaluate(x_test_embs[1], y_test))"
      ]
    },
    {
      "cell_type": "code",
      "execution_count": null,
      "metadata": {
        "id": "3LddnOQ1RX6i",
        "outputId": "5f9df487-f96d-48da-9adf-e22bf3cd1b82"
      },
      "outputs": [
        {
          "name": "stdout",
          "output_type": "stream",
          "text": [
            "Model: \"sequential\"\n",
            "_________________________________________________________________\n",
            " Layer (type)                Output Shape              Param #   \n",
            "=================================================================\n",
            " conv1d (Conv1D)             (None, 768, 128)          512       \n",
            "                                                                 \n",
            " max_pooling1d (MaxPooling1  (None, 384, 128)          0         \n",
            " D)                                                              \n",
            "                                                                 \n",
            " conv1d_1 (Conv1D)           (None, 384, 64)           24640     \n",
            "                                                                 \n",
            " max_pooling1d_1 (MaxPoolin  (None, 192, 64)           0         \n",
            " g1D)                                                            \n",
            "                                                                 \n",
            " conv1d_2 (Conv1D)           (None, 192, 32)           6176      \n",
            "                                                                 \n",
            " max_pooling1d_2 (MaxPoolin  (None, 96, 32)            0         \n",
            " g1D)                                                            \n",
            "                                                                 \n",
            " lstm (LSTM)                 (None, 96, 180)           153360    \n",
            "                                                                 \n",
            " lstm_1 (LSTM)               (None, 83)                87648     \n",
            "                                                                 \n",
            " dense (Dense)               (None, 47)                3948      \n",
            "                                                                 \n",
            " dropout (Dropout)           (None, 47)                0         \n",
            "                                                                 \n",
            " dense_1 (Dense)             (None, 39)                1872      \n",
            "                                                                 \n",
            " dropout_1 (Dropout)         (None, 39)                0         \n",
            "                                                                 \n",
            " dense_2 (Dense)             (None, 1)                 40        \n",
            "                                                                 \n",
            "=================================================================\n",
            "Total params: 278196 (1.06 MB)\n",
            "Trainable params: 278196 (1.06 MB)\n",
            "Non-trainable params: 0 (0.00 Byte)\n",
            "_________________________________________________________________\n"
          ]
        }
      ],
      "source": [
        "best_comb.summary()"
      ]
    },
    {
      "cell_type": "code",
      "execution_count": null,
      "metadata": {
        "id": "5Wn4bOviRX6i",
        "outputId": "6945a6fe-bf2d-476e-eb85-2a554c3bf6f0"
      },
      "outputs": [
        {
          "name": "stdout",
          "output_type": "stream",
          "text": [
            "10 True values : [0, 0, 1, 0, 0, 0, 1, 1, 0, 0, 0, 0, 0, 0, 0, 0, 0, 0, 0, 1]\n",
            "10 Predict values : [0, 0, 1, 0, 0, 0, 1, 1, 0, 0, 0, 0, 0, 0, 0, 0, 0, 0, 0, 1] \n",
            "\n",
            "{'0': {'precision': 0.9707865168539326, 'recall': 0.9578713968957872, 'f1-score': 0.9642857142857143, 'support': 451.0}, '1': {'precision': 0.7738095238095238, 'recall': 0.8333333333333334, 'f1-score': 0.8024691358024691, 'support': 78.0}, 'accuracy': 0.9395085066162571, 'macro avg': {'precision': 0.8722980203317282, 'recall': 0.8956023651145603, 'f1-score': 0.8833774250440918, 'support': 529.0}, 'weighted avg': {'precision': 0.9417426502046625, 'recall': 0.9395085066162571, 'f1-score': 0.9404261809743852, 'support': 529.0}}\n"
          ]
        }
      ],
      "source": [
        "best_comb_pred = best_comb.predict(x_test_embs[1], verbose=0)\n",
        "print('10 True values : {}'.format(y_test.to_list()[:20]))\n",
        "print('10 Predict values : {} \\n'.format([round(x[0]) for x in best_comb_pred][:20]))\n",
        "print(classification_report(y_test, [round(x[0]) for x in best_comb_pred], output_dict=True))"
      ]
    },
    {
      "cell_type": "code",
      "execution_count": null,
      "metadata": {
        "id": "JvhyvwmNRX6i",
        "outputId": "fd61aa5d-5fc1-40c3-84e1-e20569220a04"
      },
      "outputs": [
        {
          "name": "stdout",
          "output_type": "stream",
          "text": [
            "Epoch 1/20\n",
            "43/43 [==============================] - 12s 228ms/step - loss: 1215.1705 - accuracy: 0.5335 - val_loss: 0.6643 - val_accuracy: 0.8539\n",
            "Epoch 2/20\n",
            "43/43 [==============================] - 10s 222ms/step - loss: 286.9260 - accuracy: 0.5618 - val_loss: 0.6666 - val_accuracy: 0.8539\n",
            "Epoch 3/20\n",
            "43/43 [==============================] - 9s 221ms/step - loss: 6.4465 - accuracy: 0.6265 - val_loss: 0.5950 - val_accuracy: 0.8539\n",
            "Epoch 4/20\n",
            "43/43 [==============================] - 9s 220ms/step - loss: 0.6935 - accuracy: 0.5156 - val_loss: 0.7043 - val_accuracy: 0.1461\n",
            "Epoch 5/20\n",
            "43/43 [==============================] - 9s 221ms/step - loss: 0.9696 - accuracy: 0.6307 - val_loss: 0.6099 - val_accuracy: 0.8539\n",
            "Epoch 6/20\n",
            "43/43 [==============================] - 10s 222ms/step - loss: 0.6666 - accuracy: 0.6307 - val_loss: 0.6047 - val_accuracy: 0.7679\n"
          ]
        }
      ],
      "source": [
        "model = tuner2.hypermodel.build(best_lstm_hps)\n",
        "early_stop = tf.keras.callbacks.EarlyStopping(monitor='val_loss', patience=3,min_delta = 0.001, restore_best_weights=True)\n",
        "history = model.fit(x_train_embs[1], y_train, validation_data=(x_val_embs[1], y_val),\n",
        "                    epochs=20, batch_size=128, callbacks=[early_stop])"
      ]
    },
    {
      "cell_type": "code",
      "execution_count": null,
      "metadata": {
        "id": "KyBoKGIeRX6j"
      },
      "outputs": [],
      "source": [
        "epochs = range(3, len(history.history['loss']) + 1)\n",
        "plt.plot(epochs, history.history['loss'][3:], label = 'loss')\n",
        "plt.plot(epochs, history.history['val_loss'][3:], label = 'val_loss')\n",
        "plt.plot(epochs, history.history['accuracy'][3:], label = 'acc')\n",
        "plt.plot(epochs, history.history['val_accuracy'][3:], label = 'val_acc')\n",
        "plt.title('Loss, Accuracy vs Epochs')\n",
        "plt.xlabel(\"Epochs\")\n",
        "plt.ylabel(\"Loss, Accuracy\")\n",
        "plt.legend()\n",
        "plt.show()"
      ]
    },
    {
      "cell_type": "code",
      "execution_count": null,
      "metadata": {
        "id": "lKzynBNYRX6j"
      },
      "outputs": [],
      "source": []
    }
  ],
  "metadata": {
    "accelerator": "GPU",
    "colab": {
      "gpuType": "T4",
      "provenance": [],
      "toc_visible": true,
      "include_colab_link": true
    },
    "kernelspec": {
      "display_name": "Python 3",
      "name": "python3"
    },
    "language_info": {
      "codemirror_mode": {
        "name": "ipython",
        "version": 3
      },
      "file_extension": ".py",
      "mimetype": "text/x-python",
      "name": "python",
      "nbconvert_exporter": "python",
      "pygments_lexer": "ipython3",
      "version": "3.11.7"
    }
  },
  "nbformat": 4,
  "nbformat_minor": 0
}